{
  "metadata": {
    "kernelspec": {
      "name": "python",
      "display_name": "Python (Pyodide)",
      "language": "python"
    },
    "language_info": {
      "codemirror_mode": {
        "name": "python",
        "version": 3
      },
      "file_extension": ".py",
      "mimetype": "text/x-python",
      "name": "python",
      "nbconvert_exporter": "python",
      "pygments_lexer": "ipython3",
      "version": "3.8"
    }
  },
  "nbformat_minor": 5,
  "nbformat": 4,
  "cells": [
    {
      "id": "72658b74-f187-4f9f-af83-61da48c6844c",
      "cell_type": "markdown",
      "source": "# Data Science Tools and Ecosystem",
      "metadata": {}
    },
    {
      "id": "97404c69-e8c1-413a-9aa9-04269384c863",
      "cell_type": "markdown",
      "source": "En este cuaderno, se resumen las herramientas y ecosistemas de ciencia de datos.",
      "metadata": {}
    },
    {
      "id": "629af905-c1e7-46f6-ad0d-b9f709b2fc16",
      "cell_type": "markdown",
      "source": "Algunos de los lenguajes populares que utilizan los científicos de datos son:\n- R\n- Python\n- SQL",
      "metadata": {}
    },
    {
      "id": "c453ad1d-8f61-4cf7-95cc-9732eda46402",
      "cell_type": "markdown",
      "source": "**Objetivos:**\n\n- Listar lenguajes populares para Ciencia de Datos\n- Enumerar bibliotecas comunes de Ciencia de Datos\n- Crear tablas en Markdown\n- Realizar operaciones aritméticas simples en Python\n\n",
      "metadata": {}
    },
    {
      "id": "68943cfb-4602-4afe-9d60-a7d4c9006977",
      "cell_type": "markdown",
      "source": "Algunas de las bibliotecas comúnmente utilizadas por los científicos de datos incluyen:\n- Matplotlib\n- Pandas\n- NumPy",
      "metadata": {}
    },
    {
      "id": "cfc2ce98-4d4a-494a-8a42-a7e7cf450369",
      "cell_type": "markdown",
      "source": "| Herramientas de Ciencia de Datos |\n|----------------------------------|\n| Jupyter Notebook                 |\n| RStudio                          |\n| VS Code                          |",
      "metadata": {}
    },
    {
      "id": "0952a24e-38d3-4b8f-a6ca-f8dfc537613c",
      "cell_type": "markdown",
      "source": "### A continuación, se presentan algunos ejemplos de evaluación de expresiones aritméticas en Python",
      "metadata": {}
    },
    {
      "id": "5565a333-9712-4e9b-8503-b69e46558100",
      "cell_type": "code",
      "source": "# Esta es una expresión aritmética simple para multiplicar y luego sumar enteros\n(3 * 4) + 5",
      "metadata": {
        "trusted": true
      },
      "outputs": [
        {
          "execution_count": 1,
          "output_type": "execute_result",
          "data": {
            "text/plain": "17"
          },
          "metadata": {}
        }
      ],
      "execution_count": 1
    },
    {
      "id": "8f975bb1-b0d4-4d37-9c6d-dea5f13fbec7",
      "cell_type": "code",
      "source": "# Esto convertirá 200 minutos a horas dividiendo por 60\n200 / 60",
      "metadata": {
        "trusted": true
      },
      "outputs": [
        {
          "execution_count": 2,
          "output_type": "execute_result",
          "data": {
            "text/plain": "3.3333333333333335"
          },
          "metadata": {}
        }
      ],
      "execution_count": 2
    },
    {
      "id": "169fba2b-a9d9-4b60-848d-a4a60f3cd59d",
      "cell_type": "markdown",
      "source": "## Autor\n\nFrancisco Aguilar Lopez\n",
      "metadata": {}
    },
    {
      "id": "ac3a27eb-d83f-4f68-a322-541c8969dd67",
      "cell_type": "code",
      "source": "",
      "metadata": {
        "trusted": true
      },
      "outputs": [],
      "execution_count": null
    }
  ]
}